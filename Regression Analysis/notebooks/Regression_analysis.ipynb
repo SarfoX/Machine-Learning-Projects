{
 "cells": [
  {
   "cell_type": "code",
   "execution_count": 6,
   "metadata": {},
   "outputs": [
    {
     "name": "stdout",
     "output_type": "stream",
     "text": [
      "Training set score: 0.95963\n",
      "Test set score: 0.95151 \n",
      "\n",
      "Available features: ['temperature', 'pH']\n",
      "Number of features used: 1/2\n",
      "Refined Features: ['temperature'] \n",
      "\n",
      "Cross-validation scores:\n",
      "0.9576521350668575\n"
     ]
    }
   ],
   "source": [
    "# -*- coding: utf-8 -*-\n",
    "\"\"\"\n",
    "Created on Thu Jan  2 09:16:06 2020\n",
    "\n",
    "@author: hp\n",
    "\"\"\"\n",
    "import pickle\n",
    "import pandas as pd\n",
    "import numpy as np\n",
    "from sklearn.linear_model import Lasso\n",
    "from sklearn.model_selection import cross_val_score\n",
    "from sklearn.model_selection import KFold\n",
    "from sklearn.model_selection import train_test_split\n",
    "from itertools import compress\n",
    "\n",
    "data_file = pd.read_csv('georgia.csv') #Import data from georgia.csv in the same directory\n",
    "input_list = ['temperature','pH']\n",
    "output_list = ['dissolved_oxygen']\n",
    "pickle.dump(input_list, open('features.pickle', 'wb'))\n",
    "\n",
    "#Extract parameters from data_file\n",
    "X = np.array(data_file[input_list]) \n",
    "y = np.array(data_file[output_list])\n",
    "\n",
    "\n",
    "X_train, X_test, y_train, y_test = train_test_split(X, y, random_state=3)\n",
    "lasso = Lasso(alpha=0.1).fit(X_train, y_train) #Lasso Regression model was used to penalise some features\n",
    "pickle.dump(lasso, open('model.pickle', 'wb'))\n",
    "\n",
    "print(\"Training set score: {:.5f}\".format(lasso.score(X_train, y_train)))\n",
    "print(\"Test set score: {:.5f} \\n\".format(lasso.score(X_test, y_test)))\n",
    "\n",
    "print( \"Available features: {}\".format(str(input_list)) )\n",
    "print( \"Number of features used: {}/{}\".format(np.sum(lasso.coef_ != 0), len(input_list)) )\n",
    "res = list( compress(input_list, lasso.coef_!=0) )\n",
    "print( \"Refined Features: {} \\n\".format(str(res)) )\n",
    "\n",
    "\n",
    "kfold = KFold(n_splits=3, shuffle=True, random_state=0)\n",
    "scores = cross_val_score(lasso, X, y, cv=kfold)\n",
    "print( \"Cross-validation scores:\\n{}\".format(scores.mean()) )\n",
    "\n",
    "\n",
    "#                       ALTERNATIVE METHOD\n",
    "#from sklearn.model_selection import train_test_split\n",
    "#X_train, X_test, y_train, y_test = train_test_split(X, y, random_state=5)\n",
    "#lasso = Lasso(alpha=0.1).fit(X_train, y_train)\n",
    "#print(\"Training set score: {:.2f}\".format(lasso.score(X_train, y_train)))\n",
    "#print(\"Test set score: {:.2f}\".format(lasso.score(X_test, y_test)))\n",
    "#print(\"Number of features used: {}\".format(np.sum(lasso.coef_ != 0)))"
   ]
  },
  {
   "cell_type": "code",
   "execution_count": null,
   "metadata": {},
   "outputs": [],
   "source": []
  }
 ],
 "metadata": {
  "kernelspec": {
   "display_name": "Python 3",
   "language": "python",
   "name": "python3"
  },
  "language_info": {
   "codemirror_mode": {
    "name": "ipython",
    "version": 3
   },
   "file_extension": ".py",
   "mimetype": "text/x-python",
   "name": "python",
   "nbconvert_exporter": "python",
   "pygments_lexer": "ipython3",
   "version": "3.7.4"
  }
 },
 "nbformat": 4,
 "nbformat_minor": 2
}
